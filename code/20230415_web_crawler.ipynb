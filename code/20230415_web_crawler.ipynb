{
  "nbformat": 4,
  "nbformat_minor": 0,
  "metadata": {
    "colab": {
      "provenance": []
    },
    "kernelspec": {
      "name": "python3",
      "display_name": "Python 3"
    },
    "language_info": {
      "name": "python"
    }
  },
  "cells": [
    {
      "cell_type": "markdown",
      "source": [
        "## 使用 GET 爬取 PTT 資料"
      ],
      "metadata": {
        "id": "NQevu4EdE_z9"
      }
    },
    {
      "cell_type": "code",
      "execution_count": 2,
      "metadata": {
        "id": "vWyivyHvEt6z"
      },
      "outputs": [],
      "source": [
        "import requests\n",
        "url = 'https://www.ptt.cc/bbs/creditcard/index.html'\n",
        "response = requests.get(url)\n",
        "#print(response.text)"
      ]
    },
    {
      "cell_type": "markdown",
      "source": [
        "## 使用 POST 抓取高鐵時刻表"
      ],
      "metadata": {
        "id": "pZjDlgs7FKm1"
      }
    },
    {
      "cell_type": "code",
      "source": [
        "import requests\n",
        "url = 'https://www.thsrc.com.tw/TimeTable/Search'\n",
        "payload = {\n",
        "  'SearchType': 'S',\n",
        "  'Lang': 'TW',\n",
        "  'StartStation': 'TaiPei',\n",
        "  'EndStation': 'XinZhu',\n",
        "  'OutWardSearchDate': '2023/04/15',\n",
        "  'OutWardSearchTime': '18:00',\n",
        "  'ReturnSearchDate': '2023/04/03',\n",
        "  'ReturnSearchTime': '10:00',\n",
        "  'DiscountType': ''\n",
        "}\n",
        "response = requests.post(url, data=payload)\n",
        "#print(response.json())"
      ],
      "metadata": {
        "id": "0jlIsS_oFFH5"
      },
      "execution_count": 4,
      "outputs": []
    },
    {
      "cell_type": "markdown",
      "source": [
        "## 練習題\n",
        "請觀察以下頁面該是使用 GET or POST 抓取頁面資料?\n",
        "- https://www.mobile01.com/topicdetail.php?f=180&t=6741959 "
      ],
      "metadata": {
        "id": "t_qDyHK3FdPJ"
      }
    },
    {
      "cell_type": "markdown",
      "source": [
        "## 使用 BeautifulSoup 剖析頁面"
      ],
      "metadata": {
        "id": "w2ZfZtkiFyUU"
      }
    },
    {
      "cell_type": "markdown",
      "source": [
        "### BeautifulSoup 範例"
      ],
      "metadata": {
        "id": "N9svYf0QGQPU"
      }
    },
    {
      "cell_type": "code",
      "source": [
        "# BeautifulSoup 範例\n",
        "from bs4 import BeautifulSoup \n",
        "html_sample = ''' \n",
        "<html> \n",
        " <body> \n",
        " <h1 id=\"title\">Hello World</h1> \n",
        " <a href=\"#\" class=\"link\">This is link1</a> \n",
        " <a href=\"# link2\" class=\"link\">This is link2</a> \n",
        " </body> \n",
        " </html>'''\n",
        "\n",
        "soup = BeautifulSoup(html_sample, 'lxml')\n",
        "print(soup.text)"
      ],
      "metadata": {
        "colab": {
          "base_uri": "https://localhost:8080/"
        },
        "id": "P80r6oYYFWDw",
        "outputId": "c4166b45-c29c-4abb-969c-df22b7341598"
      },
      "execution_count": 7,
      "outputs": [
        {
          "output_type": "stream",
          "name": "stdout",
          "text": [
            "\n",
            "\n",
            "Hello World\n",
            "This is link1\n",
            "This is link2\n",
            "\n",
            "\n"
          ]
        }
      ]
    },
    {
      "cell_type": "markdown",
      "source": [
        "### 取出h1 標籤的資料"
      ],
      "metadata": {
        "id": "Hzdm2fW7GVyk"
      }
    },
    {
      "cell_type": "code",
      "source": [
        "# 取出h1 標籤的資料\n",
        "soup = BeautifulSoup(html_sample, 'lxml') \n",
        "title = soup.select_one('h1') \n",
        "print(title)\n"
      ],
      "metadata": {
        "colab": {
          "base_uri": "https://localhost:8080/"
        },
        "id": "irChjf7JGL1p",
        "outputId": "cc4c1515-6e9e-47d5-e57d-e6b571f200cf"
      },
      "execution_count": 8,
      "outputs": [
        {
          "output_type": "stream",
          "name": "stdout",
          "text": [
            "<h1 id=\"title\">Hello World</h1>\n"
          ]
        }
      ]
    },
    {
      "cell_type": "markdown",
      "source": [
        "### 找出所有含a tag 的HTML 元素"
      ],
      "metadata": {
        "id": "iyZUVWscGY7W"
      }
    },
    {
      "cell_type": "code",
      "source": [
        "# 找出所有含a tag 的HTML 元素\n",
        "soup = BeautifulSoup(html_sample, 'lxml') \n",
        "alink = soup.select('a') \n",
        "print(alink)"
      ],
      "metadata": {
        "colab": {
          "base_uri": "https://localhost:8080/"
        },
        "id": "hZB6iD7gGYV1",
        "outputId": "5a021547-8cbb-4050-f792-519e4834f708"
      },
      "execution_count": 9,
      "outputs": [
        {
          "output_type": "stream",
          "name": "stdout",
          "text": [
            "[<a class=\"link\" href=\"#\">This is link1</a>, <a class=\"link\" href=\"# link2\">This is link2</a>]\n"
          ]
        }
      ]
    },
    {
      "cell_type": "markdown",
      "source": [
        "### 取得含有特定ID的元素"
      ],
      "metadata": {
        "id": "rUaVKFyyGfWf"
      }
    },
    {
      "cell_type": "code",
      "source": [
        "# 取得含有特定ID的元素\n",
        "alink = soup.select('#title') \n",
        "print(alink)\n"
      ],
      "metadata": {
        "colab": {
          "base_uri": "https://localhost:8080/"
        },
        "id": "FX_LOwbUGeuR",
        "outputId": "07341b5c-6903-4d1c-9f00-f2cef0f5d36f"
      },
      "execution_count": 10,
      "outputs": [
        {
          "output_type": "stream",
          "name": "stdout",
          "text": [
            "[<h1 id=\"title\">Hello World</h1>]\n"
          ]
        }
      ]
    },
    {
      "cell_type": "markdown",
      "source": [
        "### 取得含有特定class的元素"
      ],
      "metadata": {
        "id": "niaMCrigGiXK"
      }
    },
    {
      "cell_type": "code",
      "source": [
        "\n",
        "# 取得含有特定class的元素\n",
        "soup = BeautifulSoup(html_sample, 'lxml') \n",
        "for link in soup.select('.link'): \n",
        "    print(link)\n",
        "\n"
      ],
      "metadata": {
        "colab": {
          "base_uri": "https://localhost:8080/"
        },
        "id": "uOA8xne8Ghpk",
        "outputId": "bdf60f0d-65cb-424b-ab10-62b4e723bb94"
      },
      "execution_count": 11,
      "outputs": [
        {
          "output_type": "stream",
          "name": "stdout",
          "text": [
            "<a class=\"link\" href=\"#\">This is link1</a>\n",
            "<a class=\"link\" href=\"# link2\">This is link2</a>\n"
          ]
        }
      ]
    },
    {
      "cell_type": "markdown",
      "source": [
        "### 取得所有a tag 內的連結"
      ],
      "metadata": {
        "id": "dHLjEQriGluM"
      }
    },
    {
      "cell_type": "code",
      "source": [
        "# 取得所有a tag 內的連結\n",
        "alinks = soup.select('a') \n",
        "for link in alinks: \n",
        "    print(link['href'])"
      ],
      "metadata": {
        "colab": {
          "base_uri": "https://localhost:8080/"
        },
        "id": "IJZwx7y1GlOa",
        "outputId": "5eb4ba0c-c941-4696-8ef8-a5e8681fa96f"
      },
      "execution_count": 12,
      "outputs": [
        {
          "output_type": "stream",
          "name": "stdout",
          "text": [
            "#\n",
            "# link2\n"
          ]
        }
      ]
    },
    {
      "cell_type": "markdown",
      "source": [
        "## 資料蒐集實務"
      ],
      "metadata": {
        "id": "xoIgMNoOG3TM"
      }
    },
    {
      "cell_type": "code",
      "source": [
        "#抓取列表原始碼\n",
        "import requests\n",
        "from bs4 import BeautifulSoup\n",
        "res = requests.get('https://www.ptt.cc/bbs/creditcard/index.html')\n",
        "\n",
        "#用迴圈遍歷含有 r-ent 的元素\n",
        "soup = BeautifulSoup(res.text , 'lxml')\n",
        "for rec in soup.select('.r-ent'):\n",
        "    print(rec)\n"
      ],
      "metadata": {
        "id": "f1onjHeMGqh6"
      },
      "execution_count": null,
      "outputs": []
    },
    {
      "cell_type": "code",
      "source": [
        "for rec in soup.select('.r-ent'):\n",
        " if rec.select_one('a'):\n",
        "  title = rec.select_one('a').text\n",
        "  link  = rec.select_one('a').get('href')\n",
        "  author = rec.select_one('.author').text\n",
        "  push  = rec.select_one('.nrec').text\n",
        "  date  = rec.select_one('.date').text\n",
        "  print(title, link, author, push, date)\n"
      ],
      "metadata": {
        "colab": {
          "base_uri": "https://localhost:8080/"
        },
        "id": "ogNN-5GRHCkY",
        "outputId": "572bf132-d893-4055-877f-91cb98e0a982"
      },
      "execution_count": 16,
      "outputs": [
        {
          "output_type": "stream",
          "name": "stdout",
          "text": [
            "[心得] 2023上半年用卡整理  4/10更新 /bbs/creditcard/M.1672850327.A.94E.html cokelon 爆  1/05\n",
            "[心得] 2023Q2 信用卡回饋指定通路 /bbs/creditcard/M.1680335399.A.AA6.html SmallBeeWayn 13  4/01\n",
            "[討論] 湊首刷/滿額/次數/門檻的儲值管道整理 /bbs/creditcard/M.1512475390.A.102.html kobe741107 93 12/05\n",
            "[公告] 置底閒聊專區；宜：先詳閱板規,再發文/言 /bbs/creditcard/M.1672891679.A.07F.html tourism1003 19  1/05\n",
            "[公告] 卡板板規 V9.1 / 置底檢舉專區 /bbs/creditcard/M.1615816709.A.BF3.html tourism1003 5  3/15\n"
          ]
        }
      ]
    },
    {
      "cell_type": "markdown",
      "source": [
        "### 擷取內文"
      ],
      "metadata": {
        "id": "E_cI1qCGHZ6-"
      }
    },
    {
      "cell_type": "code",
      "source": [
        "from bs4 import BeautifulSoup\n",
        "import requests\n",
        "\n",
        "res = requests.get('https://www.ptt.cc/bbs/creditcard/M.1680163258.A.82D.html')\n",
        "soup = BeautifulSoup(res.text, 'lxml')\n",
        "\n",
        "main_content = soup.select_one('#main-content')\n",
        "\n",
        "# 移除 class 為 article-meta-tag, article-meta-value, f2, f6 的標籤\n",
        "for tag in main_content.select('.article-meta-tag, .article-meta-value, .f6, .f2'):\n",
        "  tag.decompose()\n",
        "\n",
        "# 取得 -- 之前的所有文字\n",
        "content = main_content.get_text('\\n', strip=True)\n",
        "content = content.split('--')[0].strip()\n",
        "print(content)\n"
      ],
      "metadata": {
        "colab": {
          "base_uri": "https://localhost:8080/"
        },
        "id": "Rkc6eaZuHMmt",
        "outputId": "84ccfe3f-89c0-4206-8b96-5354fd2bb295"
      },
      "execution_count": 17,
      "outputs": [
        {
          "output_type": "stream",
          "name": "stdout",
          "text": [
            "中信101聯名卡新推出邀約制的尊榮鼎極VISA無限卡金屬卡\n",
            "\n",
            "邀請條件是年消費300萬元或傳富家(年資產往來3000萬)\n",
            "\n",
            "一般消費現金回饋1％無上限、海外消費現金回饋3%無上限\n",
            "\n",
            "101觀景台門票與快速通關8折\n",
            "\n",
            "停車和原本的無限卡一樣4小時\n",
            "\n",
            "其他權益如餐廳保留位等也都跟原本的無限卡差不多\n",
            "\n",
            "年費NT28,000元，本行臻、傳富家資格及101尊榮俱樂部會員資格免年費。\n",
            "https://www.cardu.com.tw/news/detail.php?48533\n",
            "https://i.imgur.com/YtuHoAl.jpg\n",
            "上次華航鼎尊無限卡限量3000張發了三年還沒發完，這次101尊榮鼎極卡能發出幾張?\n"
          ]
        }
      ]
    },
    {
      "cell_type": "markdown",
      "source": [
        "### 擷取評論"
      ],
      "metadata": {
        "id": "1qRlu3RnHi7Y"
      }
    },
    {
      "cell_type": "code",
      "source": [
        "for push in soup.select('.push'):\n",
        " push_tag = push.select_one('.push-tag').text.strip()\n",
        " push_userid = push.select_one('.push-userid').text.strip()\n",
        " push_content = push.select_one('.push-content').text.strip()\n",
        " push_updatetime = push.select_one('.push-ipdatetime').text.strip()\n",
        " print(push_tag,push_userid, push_content, push_updatetime)\n"
      ],
      "metadata": {
        "colab": {
          "base_uri": "https://localhost:8080/"
        },
        "id": "UrVb8ZshHfiv",
        "outputId": "780db413-ceef-41f4-d09c-d17ae8593983"
      },
      "execution_count": 18,
      "outputs": [
        {
          "output_type": "stream",
          "name": "stdout",
          "text": [
            "推 FMANT : 華航鼎尊連附卡都是金屬卡，有限量？呵呵 03/30 16:37\n",
            "推 XXXXXXXCC : 這優惠有很好嗎？ 03/30 16:39\n",
            "→ catuncle1 : 如果只是極富尊貴，但權益soso，還收高額年費，一般 03/30 17:04\n",
            "→ catuncle1 : 卡友是不會買單，看那些常逛101有錢人會不會有興趣 03/30 17:05\n",
            "推 jameswang278 : 看起來跟原本的鼎極卡沒啥太大差別，真正頂端客戶應 03/30 20:08\n",
            "→ jameswang278 : 該也不差那一丁點的權益.... 03/30 20:08\n",
            "→ timsky : 無感 不會辦 03/30 20:57\n",
            "推 Jack131 : 發那張真的鼎尊卡還比較實在 03/30 22:59\n",
            "推 cka : 看來根本沒人會為了這些權益繳28000啦，那是寫給免 04/01 00:21\n",
            "→ cka : 年費那些人看的，說你看喔你賺到28000了 04/01 00:21\n",
            "推 abyssa1 : 這是給理財客戶尊榮感的 發幾張不是重點 04/07 23:54\n",
            "→ abyssa1 : 推這個比較像是中信打算分享給101客戶資料 04/07 23:55\n",
            "→ abyssa1 : 手上拿這張就是30M身價起跳的潛在大戶 04/07 23:55\n"
          ]
        }
      ]
    },
    {
      "cell_type": "markdown",
      "source": [
        "### 將內文抓取腳本整理成函數"
      ],
      "metadata": {
        "id": "uPYbh-FiHxQR"
      }
    },
    {
      "cell_type": "code",
      "source": [
        "def get_main_content(url):\n",
        " res = requests.get(url)\n",
        " soup = BeautifulSoup(res.text, 'lxml')\n",
        "\n",
        " main_content = soup.select_one('#main-content')\n",
        "\n",
        " for tag in main_content.select('.article-meta-tag, .article-meta-value, .f6, .f2'):\n",
        "   tag.decompose()\n",
        "\n",
        " content = main_content.get_text('\\n', strip=True)\n",
        " content = content.split('--')[0].strip()\n",
        " return content\n"
      ],
      "metadata": {
        "id": "dGfExp3kHrb4"
      },
      "execution_count": 20,
      "outputs": []
    },
    {
      "cell_type": "markdown",
      "source": [
        "### 將推文抓取腳本整理成函數"
      ],
      "metadata": {
        "id": "CZfSNeBbH55o"
      }
    },
    {
      "cell_type": "code",
      "source": [
        "def get_push_content(url):\n",
        " res = requests.get(url)\n",
        " soup = BeautifulSoup(res.text, 'lxml')\n",
        " push_ary = []\n",
        " for push in soup.select('.push'):\n",
        "  push_dic = {}\n",
        "  push_dic['push_tag'] = push.select_one('.push-tag').text.strip()\n",
        "  push_dic['push_userid'] = push.select_one('.push-userid').text.strip()\n",
        "  push_dic['push_content'] = push.select_one('.push-content').text.strip()\n",
        "  push_dic['push_updatetime'] = push.select_one('.push-ipdatetime').text.strip()\n",
        "  push_ary.append(push_dic)\n",
        " return push_ary\n"
      ],
      "metadata": {
        "id": "6KNr-fiiH3m8"
      },
      "execution_count": 21,
      "outputs": []
    },
    {
      "cell_type": "markdown",
      "source": [
        "## 完整抓取所有評論"
      ],
      "metadata": {
        "id": "CKgEWjDYIFQV"
      }
    },
    {
      "cell_type": "markdown",
      "source": [
        "### 將清單連結傳給評論抓取函數"
      ],
      "metadata": {
        "id": "MfDKTms9IaxM"
      }
    },
    {
      "cell_type": "code",
      "source": [
        "domain = 'https://www.ptt.cc'\n",
        "data_ary = []\n",
        "for i in range(3692, 3650, -1):\n",
        " res = requests.get(f'https://www.ptt.cc/bbs/creditcard/index{i}.html')\n",
        " soup = BeautifulSoup(res.text, 'lxml')\n",
        " for rec in soup.select('.r-ent'):\n",
        "  if rec.select_one('a'):\n",
        "   data_dic = {}\n",
        "   data_dic['title'] = rec.select_one('a').text\n",
        "   data_dic['link']  = domain + rec.select_one('a').get('href')\n",
        "   data_dic['author'] = rec.select_one('.author').text\n",
        "   data_dic['push']  = rec.select_one('.nrec').text\n",
        "   data_dic['date']  = rec.select_one('.date').text\n",
        "   data_dic['content']= get_main_content(data_dic['link'])\n",
        "   data_ary.append(data_dic)"
      ],
      "metadata": {
        "id": "gBKXsXXvICks"
      },
      "execution_count": 26,
      "outputs": []
    },
    {
      "cell_type": "markdown",
      "source": [
        "### 將資料轉到Pandas 的DataFrame"
      ],
      "metadata": {
        "id": "4XzeATmTIjDA"
      }
    },
    {
      "cell_type": "code",
      "source": [
        "import pandas\n",
        "data_df = pandas.DataFrame(data_ary)\n",
        "data_df.head()\n"
      ],
      "metadata": {
        "colab": {
          "base_uri": "https://localhost:8080/",
          "height": 337
        },
        "id": "TJJT6yr5IRZH",
        "outputId": "2a7c2dc9-75e2-4ebe-c047-d12ceaaa43ac"
      },
      "execution_count": 27,
      "outputs": [
        {
          "output_type": "execute_result",
          "data": {
            "text/plain": [
              "                                   title  \\\n",
              "0  Re: [情報] 2023 凱基行動支付1.5%/4% 悠遊卡速食8%活動   \n",
              "1                   [心得] 台新 GoGo&Flygo核卡   \n",
              "2                             [閒聊] 花旗卡盜刷   \n",
              "3                [心得] 兆豐新光核卡 渣打花旗婉拒 多家調額   \n",
              "4                      [心得] 富邦好市多鈦金相片卡核卡   \n",
              "\n",
              "                                                link       author push   date  \\\n",
              "0  https://www.ptt.cc/bbs/creditcard/M.1681312432...      thomson    9   4/12   \n",
              "1  https://www.ptt.cc/bbs/creditcard/M.1681343426...     peter120    5   4/13   \n",
              "2  https://www.ptt.cc/bbs/creditcard/M.1681358049...     t1013tom   13   4/13   \n",
              "3  https://www.ptt.cc/bbs/creditcard/M.1681373559...  yeuling9300        4/13   \n",
              "4  https://www.ptt.cc/bbs/creditcard/M.1681374700...        gyqmo    7   4/13   \n",
              "\n",
              "                                             content  \n",
              "0  放榜了\\n凱基魔Buy+橘子支付 繳費有4%回饋\\n凱基魔Buy+全盈PAY 繳費有 1~3...  \n",
              "1  ★職業類別：通訊產業\\n\\n★年資：1.5y\\n\\n★年齡：25\\n\\n★申請卡片：@GoG...  \n",
              "2  平常都在板上潛水看大神們分享的攻略\\n每次看到盜刷文都覺得不太乾我的事，因為我比較少用網拍買...  \n",
              "3  職業類別：出版業\\n年資：2y\\n年齡：29\\n申請卡片：兆豐宇宙明星BT21信用卡/新光O...  \n",
              "4  ★職業類別：教育業\\n\\n★年資：10\\n\\n★年齡：37\\n\\n★申請卡片：富邦好市多相片...  "
            ],
            "text/html": [
              "\n",
              "  <div id=\"df-6a0a0245-e8a0-4c0c-abeb-b45473e13247\">\n",
              "    <div class=\"colab-df-container\">\n",
              "      <div>\n",
              "<style scoped>\n",
              "    .dataframe tbody tr th:only-of-type {\n",
              "        vertical-align: middle;\n",
              "    }\n",
              "\n",
              "    .dataframe tbody tr th {\n",
              "        vertical-align: top;\n",
              "    }\n",
              "\n",
              "    .dataframe thead th {\n",
              "        text-align: right;\n",
              "    }\n",
              "</style>\n",
              "<table border=\"1\" class=\"dataframe\">\n",
              "  <thead>\n",
              "    <tr style=\"text-align: right;\">\n",
              "      <th></th>\n",
              "      <th>title</th>\n",
              "      <th>link</th>\n",
              "      <th>author</th>\n",
              "      <th>push</th>\n",
              "      <th>date</th>\n",
              "      <th>content</th>\n",
              "    </tr>\n",
              "  </thead>\n",
              "  <tbody>\n",
              "    <tr>\n",
              "      <th>0</th>\n",
              "      <td>Re: [情報] 2023 凱基行動支付1.5%/4% 悠遊卡速食8%活動</td>\n",
              "      <td>https://www.ptt.cc/bbs/creditcard/M.1681312432...</td>\n",
              "      <td>thomson</td>\n",
              "      <td>9</td>\n",
              "      <td>4/12</td>\n",
              "      <td>放榜了\\n凱基魔Buy+橘子支付 繳費有4%回饋\\n凱基魔Buy+全盈PAY 繳費有 1~3...</td>\n",
              "    </tr>\n",
              "    <tr>\n",
              "      <th>1</th>\n",
              "      <td>[心得] 台新 GoGo&amp;Flygo核卡</td>\n",
              "      <td>https://www.ptt.cc/bbs/creditcard/M.1681343426...</td>\n",
              "      <td>peter120</td>\n",
              "      <td>5</td>\n",
              "      <td>4/13</td>\n",
              "      <td>★職業類別：通訊產業\\n\\n★年資：1.5y\\n\\n★年齡：25\\n\\n★申請卡片：@GoG...</td>\n",
              "    </tr>\n",
              "    <tr>\n",
              "      <th>2</th>\n",
              "      <td>[閒聊] 花旗卡盜刷</td>\n",
              "      <td>https://www.ptt.cc/bbs/creditcard/M.1681358049...</td>\n",
              "      <td>t1013tom</td>\n",
              "      <td>13</td>\n",
              "      <td>4/13</td>\n",
              "      <td>平常都在板上潛水看大神們分享的攻略\\n每次看到盜刷文都覺得不太乾我的事，因為我比較少用網拍買...</td>\n",
              "    </tr>\n",
              "    <tr>\n",
              "      <th>3</th>\n",
              "      <td>[心得] 兆豐新光核卡 渣打花旗婉拒 多家調額</td>\n",
              "      <td>https://www.ptt.cc/bbs/creditcard/M.1681373559...</td>\n",
              "      <td>yeuling9300</td>\n",
              "      <td></td>\n",
              "      <td>4/13</td>\n",
              "      <td>職業類別：出版業\\n年資：2y\\n年齡：29\\n申請卡片：兆豐宇宙明星BT21信用卡/新光O...</td>\n",
              "    </tr>\n",
              "    <tr>\n",
              "      <th>4</th>\n",
              "      <td>[心得] 富邦好市多鈦金相片卡核卡</td>\n",
              "      <td>https://www.ptt.cc/bbs/creditcard/M.1681374700...</td>\n",
              "      <td>gyqmo</td>\n",
              "      <td>7</td>\n",
              "      <td>4/13</td>\n",
              "      <td>★職業類別：教育業\\n\\n★年資：10\\n\\n★年齡：37\\n\\n★申請卡片：富邦好市多相片...</td>\n",
              "    </tr>\n",
              "  </tbody>\n",
              "</table>\n",
              "</div>\n",
              "      <button class=\"colab-df-convert\" onclick=\"convertToInteractive('df-6a0a0245-e8a0-4c0c-abeb-b45473e13247')\"\n",
              "              title=\"Convert this dataframe to an interactive table.\"\n",
              "              style=\"display:none;\">\n",
              "        \n",
              "  <svg xmlns=\"http://www.w3.org/2000/svg\" height=\"24px\"viewBox=\"0 0 24 24\"\n",
              "       width=\"24px\">\n",
              "    <path d=\"M0 0h24v24H0V0z\" fill=\"none\"/>\n",
              "    <path d=\"M18.56 5.44l.94 2.06.94-2.06 2.06-.94-2.06-.94-.94-2.06-.94 2.06-2.06.94zm-11 1L8.5 8.5l.94-2.06 2.06-.94-2.06-.94L8.5 2.5l-.94 2.06-2.06.94zm10 10l.94 2.06.94-2.06 2.06-.94-2.06-.94-.94-2.06-.94 2.06-2.06.94z\"/><path d=\"M17.41 7.96l-1.37-1.37c-.4-.4-.92-.59-1.43-.59-.52 0-1.04.2-1.43.59L10.3 9.45l-7.72 7.72c-.78.78-.78 2.05 0 2.83L4 21.41c.39.39.9.59 1.41.59.51 0 1.02-.2 1.41-.59l7.78-7.78 2.81-2.81c.8-.78.8-2.07 0-2.86zM5.41 20L4 18.59l7.72-7.72 1.47 1.35L5.41 20z\"/>\n",
              "  </svg>\n",
              "      </button>\n",
              "      \n",
              "  <style>\n",
              "    .colab-df-container {\n",
              "      display:flex;\n",
              "      flex-wrap:wrap;\n",
              "      gap: 12px;\n",
              "    }\n",
              "\n",
              "    .colab-df-convert {\n",
              "      background-color: #E8F0FE;\n",
              "      border: none;\n",
              "      border-radius: 50%;\n",
              "      cursor: pointer;\n",
              "      display: none;\n",
              "      fill: #1967D2;\n",
              "      height: 32px;\n",
              "      padding: 0 0 0 0;\n",
              "      width: 32px;\n",
              "    }\n",
              "\n",
              "    .colab-df-convert:hover {\n",
              "      background-color: #E2EBFA;\n",
              "      box-shadow: 0px 1px 2px rgba(60, 64, 67, 0.3), 0px 1px 3px 1px rgba(60, 64, 67, 0.15);\n",
              "      fill: #174EA6;\n",
              "    }\n",
              "\n",
              "    [theme=dark] .colab-df-convert {\n",
              "      background-color: #3B4455;\n",
              "      fill: #D2E3FC;\n",
              "    }\n",
              "\n",
              "    [theme=dark] .colab-df-convert:hover {\n",
              "      background-color: #434B5C;\n",
              "      box-shadow: 0px 1px 3px 1px rgba(0, 0, 0, 0.15);\n",
              "      filter: drop-shadow(0px 1px 2px rgba(0, 0, 0, 0.3));\n",
              "      fill: #FFFFFF;\n",
              "    }\n",
              "  </style>\n",
              "\n",
              "      <script>\n",
              "        const buttonEl =\n",
              "          document.querySelector('#df-6a0a0245-e8a0-4c0c-abeb-b45473e13247 button.colab-df-convert');\n",
              "        buttonEl.style.display =\n",
              "          google.colab.kernel.accessAllowed ? 'block' : 'none';\n",
              "\n",
              "        async function convertToInteractive(key) {\n",
              "          const element = document.querySelector('#df-6a0a0245-e8a0-4c0c-abeb-b45473e13247');\n",
              "          const dataTable =\n",
              "            await google.colab.kernel.invokeFunction('convertToInteractive',\n",
              "                                                     [key], {});\n",
              "          if (!dataTable) return;\n",
              "\n",
              "          const docLinkHtml = 'Like what you see? Visit the ' +\n",
              "            '<a target=\"_blank\" href=https://colab.research.google.com/notebooks/data_table.ipynb>data table notebook</a>'\n",
              "            + ' to learn more about interactive tables.';\n",
              "          element.innerHTML = '';\n",
              "          dataTable['output_type'] = 'display_data';\n",
              "          await google.colab.output.renderOutput(dataTable, element);\n",
              "          const docLink = document.createElement('div');\n",
              "          docLink.innerHTML = docLinkHtml;\n",
              "          element.appendChild(docLink);\n",
              "        }\n",
              "      </script>\n",
              "    </div>\n",
              "  </div>\n",
              "  "
            ]
          },
          "metadata": {},
          "execution_count": 27
        }
      ]
    },
    {
      "cell_type": "markdown",
      "source": [
        "### 使用Pandas 匯出資料"
      ],
      "metadata": {
        "id": "VvnILkBcIoS9"
      }
    },
    {
      "cell_type": "code",
      "source": [
        "data_df.to_excel('ptt_creditcard.xlsx')"
      ],
      "metadata": {
        "id": "ngVcF2w3IlwN"
      },
      "execution_count": 28,
      "outputs": []
    },
    {
      "cell_type": "code",
      "source": [],
      "metadata": {
        "id": "7a33cf1KKcUf"
      },
      "execution_count": null,
      "outputs": []
    }
  ]
}