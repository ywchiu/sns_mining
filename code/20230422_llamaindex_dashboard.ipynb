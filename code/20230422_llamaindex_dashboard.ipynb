{
  "nbformat": 4,
  "nbformat_minor": 0,
  "metadata": {
    "colab": {
      "provenance": []
    },
    "kernelspec": {
      "name": "python3",
      "display_name": "Python 3"
    },
    "language_info": {
      "name": "python"
    }
  },
  "cells": [
    {
      "cell_type": "markdown",
      "source": [
        "## LlamaIndex"
      ],
      "metadata": {
        "id": "a0feXWwWdKYL"
      }
    },
    {
      "cell_type": "code",
      "execution_count": null,
      "metadata": {
        "id": "_elaMEzxdHt7"
      },
      "outputs": [],
      "source": [
        "from llama_index import SQLDatabase, GPTSQLStructStoreIndex\n",
        "from sqlalchemy import create_engine\n",
        "\n",
        "engine = create_engine(\"sqlite:///sns_data.sqlite\")\n",
        "sql_database = SQLDatabase(engine, include_tables=[\"main_content\"])\n",
        "\n",
        "index = GPTSQLStructStoreIndex(\n",
        "  [],\n",
        "  sql_database=sql_database,\n",
        "  table_name=\"main_content\",\n",
        ")\n"
      ]
    },
    {
      "cell_type": "code",
      "source": [
        "import pandas\n",
        "response = index.query(\"玉山\", mode=\"default\", verbose = True)\n",
        "out_df = pandas.DataFrame(eval(response.response) )\n",
        "out_df"
      ],
      "metadata": {
        "id": "doqEgOAAdaSh"
      },
      "execution_count": null,
      "outputs": []
    },
    {
      "cell_type": "code",
      "source": [
        "from llama_index.indices.struct_store import GPTPandasIndex\n",
        "import os\n",
        "import pandas\n",
        "\n",
        "os.environ['OPENAI_API_KEY'] = TOKEN\n",
        "data_df = pandas.read_excel('ptt_creditcard.xlsx', index_col = 0)\n",
        "\n",
        "index = GPTPandasIndex(df=data_df)\n",
        "response = index.query(\n",
        "  \"玉山 or 中信\",\n",
        "  verbose=True\n",
        ")"
      ],
      "metadata": {
        "id": "AHOKg2yKdZ0o"
      },
      "execution_count": null,
      "outputs": []
    },
    {
      "cell_type": "markdown",
      "source": [
        "## Dashboard"
      ],
      "metadata": {
        "id": "C2p0bECedczV"
      }
    },
    {
      "cell_type": "code",
      "source": [
        "!pip install jupyter-dash"
      ],
      "metadata": {
        "id": "Sfh5Hr5qdd1Z"
      },
      "execution_count": null,
      "outputs": []
    },
    {
      "cell_type": "code",
      "source": [
        "import plotly.express as px\n",
        "from jupyter_dash import JupyterDash\n",
        "import dash_core_components as dcc\n",
        "import dash_html_components as html\n",
        "from dash.dependencies import Input, Output\n",
        "\n",
        "# Build App\n",
        "app = JupyterDash(__name__)\n",
        "app.layout = html.Div([\n",
        "    html.H1(\"輿情分析儀表板\"),\n",
        "    dcc.Graph(id='graph'),\n",
        "    html.Label([\n",
        "        \"Query\",\n",
        "        dcc.Input(id='query-input', type='text', value='')\n",
        "    ]),\n",
        "])\n",
        "\n",
        "# Define callback to update graph\n",
        "@app.callback(\n",
        "    Output('graph', 'figure'),\n",
        "    [Input(\"query-input\", \"value\")]\n",
        ")\n",
        "def update_figure(Query):\n",
        "    response = index.query(f\"統計每日標題中含有{Query}的文章數量，依照日期排序\", mode=\"default\", verbose = True)\n",
        "    out_df = pandas.read_sql_query(response.extra_info['sql_query'], engine)\n",
        "\n",
        "    return px.line(out_df, x=\"date\", y=\"COUNT(*)\", \n",
        "                   title='sns',render_mode=\"webgl\"\n",
        "    )\n",
        "# Run app and display result inline in the notebook\n",
        "app.run_server(mode='inline')"
      ],
      "metadata": {
        "id": "TWX335MNdrCp"
      },
      "execution_count": null,
      "outputs": []
    },
    {
      "cell_type": "code",
      "source": [
        "import plotly.express as px\n",
        "response = index.query(\"統計每日標題中含有玉山的文章數量，依照日期排序\", mode=\"default\", verbose = True)\n",
        "print(response.extra_info['sql_query'])\n",
        "our_df = pandas.read_sql_query(response.extra_info['sql_query'], engine)\n",
        "our_df\n",
        "fig = px.line(our_df, x=\"date\", y=\"COUNT(*)\", title='sns')\n",
        "fig.show()"
      ],
      "metadata": {
        "id": "RJ71_YuzduNL"
      },
      "execution_count": null,
      "outputs": []
    }
  ]
}